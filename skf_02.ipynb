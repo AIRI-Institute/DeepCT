{
 "cells": [
  {
   "cell_type": "code",
   "execution_count": 1,
   "source": [
    "import yaml\n",
    "import os\n",
    "import sys\n",
    "import random\n",
    "# sys.path.append('../../')\n",
    "import numpy as np\n",
    "from collections import Counter\n",
    "from omegaconf import OmegaConf\n",
    "import itertools\n",
    "from selene_sdk.utils import load_path, parse_configs_and_run\n",
    "from selene_sdk.utils.config_utils import module_from_dir, module_from_file\n",
    "from selene_sdk.utils.config import instantiate\n",
    "from src.dataset import EncodeDataset, LargeRandomSampler, encode_worker_init_fn\n",
    "from src.transforms import *\n",
    "from src.utils import interval_from_line\n",
    "# from torchvision import transforms\n",
    "# from torchmetrics import BinnedAveragePrecision, AveragePrecision, Accuracy\n",
    "from tqdm import tqdm\n",
    "import pandas as pd\n",
    "import copy\n",
    "from src.utils import expand_dims\n",
    "import gc\n",
    "gc.enable()\n",
    "\n",
    "import matplotlib.pyplot as plt\n",
    "import seaborn as sns\n",
    "%matplotlib inline \n",
    "\n",
    "from src.metrics import jaccard_score, threshold_wrapper\n",
    "from sklearn.metrics import average_precision_score\n",
    "from selene_sdk.utils.performance_metrics import compute_score\n",
    "\n",
    "%load_ext autoreload\n",
    "%autoreload 2"
   ],
   "outputs": [],
   "metadata": {}
  },
  {
   "cell_type": "code",
   "execution_count": 13,
   "source": [
    "path = 'model_configs/biox_dnase_multi_ct_skf_crossval.yaml'\n",
    "configs = load_path(path, instantiate=False)\n",
    "configs['dataset']['debug'] = True\n",
    "configs['dataset']['loader_args']['batch_size'] = 20"
   ],
   "outputs": [],
   "metadata": {}
  },
  {
   "cell_type": "code",
   "execution_count": null,
   "source": [],
   "outputs": [],
   "metadata": {}
  },
  {
   "cell_type": "code",
   "execution_count": 37,
   "source": [
    "from src.deepct_model_multi_ct import DeepCT\n",
    "\n",
    "model = DeepCT(**configs['model']['class_args'])"
   ],
   "outputs": [],
   "metadata": {}
  },
  {
   "cell_type": "code",
   "execution_count": 15,
   "source": [
    "from selene_sdk.utils.config_utils import get_full_dataset, get_full_dataloader\n",
    "\n",
    "# full_dataset = get_full_dataset(configs)\n",
    "full_dl = get_full_dataloader(configs)"
   ],
   "outputs": [
    {
     "output_type": "stream",
     "name": "stdout",
     "text": [
      "DEBUG MODE ON: 1000\n",
      "full_dataloader len: 410\n"
     ]
    }
   ],
   "metadata": {}
  },
  {
   "cell_type": "code",
   "execution_count": 6,
   "source": [
    "dataset_info = configs[\"dataset\"]\n",
    "\n",
    "# all intervals\n",
    "genome_intervals = []\n",
    "with open(dataset_info[\"sampling_intervals_path\"])  as f:\n",
    "    for line in f:\n",
    "        chrom, start, end = interval_from_line(line)\n",
    "        genome_intervals.append((chrom, start, end))\n",
    "\n",
    "# bedug mode\n",
    "if dataset_info['debug']:\n",
    "    genome_intervals = random.sample(genome_intervals, k=1000)\n",
    "    print(\"DEBUG MODE ON:\", len(genome_intervals))\n",
    "\n",
    "with open(dataset_info[\"distinct_features_path\"]) as f:\n",
    "    distinct_features = list(map(lambda x: x.rstrip(), f.readlines()))\n",
    "    \n",
    "with open(dataset_info[\"target_features_path\"]) as f:\n",
    "    target_features = list(map(lambda x: x.rstrip(), f.readlines()))"
   ],
   "outputs": [
    {
     "output_type": "stream",
     "name": "stdout",
     "text": [
      "DEBUG MODE ON: 1000\n"
     ]
    }
   ],
   "metadata": {}
  },
  {
   "cell_type": "markdown",
   "source": [
    "# Стратификация по CT"
   ],
   "metadata": {}
  },
  {
   "cell_type": "code",
   "execution_count": 5,
   "source": [
    "all_targets_mean = np.load('/home/thurs/DeepCT/results/ct_mean_targets.npy')\n",
    "print(len(all_targets_mean))"
   ],
   "outputs": [
    {
     "output_type": "stream",
     "name": "stdout",
     "text": [
      "631\n"
     ]
    }
   ],
   "metadata": {}
  },
  {
   "cell_type": "code",
   "execution_count": 6,
   "source": [
    "plt.hist(all_targets_mean);"
   ],
   "outputs": [
    {
     "output_type": "display_data",
     "data": {
      "image/png": "[encoded data removed]",
      "text/plain": [
       "<Figure size 432x288 with 1 Axes>"
      ]
     },
     "metadata": {
      "needs_background": "light"
     }
    }
   ],
   "metadata": {}
  },
  {
   "cell_type": "code",
   "execution_count": 7,
   "source": [
    "y_cat = pd.cut(all_targets_mean, 10, labels=range(10))\n",
    "y_cat = np.array(y_cat)"
   ],
   "outputs": [],
   "metadata": {}
  },
  {
   "cell_type": "code",
   "execution_count": 8,
   "source": [
    "plt.hist(y_cat);"
   ],
   "outputs": [
    {
     "output_type": "display_data",
     "data": {
      "image/png": "[encoded data removed]",
      "text/plain": [
       "<Figure size 432x288 with 1 Axes>"
      ]
     },
     "metadata": {
      "needs_background": "light"
     }
    }
   ],
   "metadata": {}
  },
  {
   "cell_type": "code",
   "execution_count": 11,
   "source": [
    "from sklearn.model_selection import KFold, GroupKFold, StratifiedKFold\n",
    "\n",
    "# Stratified k-fold\n",
    "ct_range = range(configs['model']['class_args']['n_cell_types'])\n",
    "n_folds = 10\n",
    "ct_splits = []\n",
    "ct_values_splits = []\n",
    "seeds = [1950, 1957, 1962, 1970, 1980, 1989, 2008, 2012, 2017, 2021]\n",
    "for fold in range(n_folds):\n",
    "    skf = StratifiedKFold(n_folds, shuffle=True, random_state=seeds[fold])\n",
    "    tmp = []\n",
    "    tmp_vals = []\n",
    "    for train_idx, test_idx in skf.split(ct_range, y_cat):\n",
    "        tmp.append(test_idx)\n",
    "        tmp_vals.append((y_cat[train_idx], y_cat[test_idx]))\n",
    "    ct_splits.append(tmp)\n",
    "    ct_values_splits.append(tmp_vals)\n",
    "    \n",
    "len(ct_splits)"
   ],
   "outputs": [
    {
     "output_type": "execute_result",
     "data": {
      "text/plain": [
       "10"
      ]
     },
     "metadata": {},
     "execution_count": 11
    }
   ],
   "metadata": {}
  },
  {
   "cell_type": "code",
   "execution_count": 55,
   "source": [
    "[len(c) for c in ct_splits]"
   ],
   "outputs": [
    {
     "output_type": "execute_result",
     "data": {
      "text/plain": [
       "[10, 10, 10, 10, 10, 10, 10, 10, 10, 10]"
      ]
     },
     "metadata": {},
     "execution_count": 55
    }
   ],
   "metadata": {}
  },
  {
   "cell_type": "code",
   "execution_count": 64,
   "source": [
    "[(len(c[0]), len(c[1])) for c in ct_values_splits[0]]"
   ],
   "outputs": [
    {
     "output_type": "execute_result",
     "data": {
      "text/plain": [
       "[(567, 64),\n",
       " (568, 63),\n",
       " (568, 63),\n",
       " (568, 63),\n",
       " (568, 63),\n",
       " (568, 63),\n",
       " (568, 63),\n",
       " (568, 63),\n",
       " (568, 63),\n",
       " (568, 63)]"
      ]
     },
     "metadata": {},
     "execution_count": 64
    }
   ],
   "metadata": {}
  },
  {
   "cell_type": "code",
   "execution_count": 85,
   "source": [
    "[(sum(c[0]), sum(c[1])) for c in ct_values_splits[0]]"
   ],
   "outputs": [
    {
     "output_type": "execute_result",
     "data": {
      "text/plain": [
       "[(1200, 139),\n",
       " (1208, 131),\n",
       " (1202, 137),\n",
       " (1202, 137),\n",
       " (1202, 137),\n",
       " (1207, 132),\n",
       " (1206, 133),\n",
       " (1206, 133),\n",
       " (1209, 130),\n",
       " (1209, 130)]"
      ]
     },
     "metadata": {},
     "execution_count": 85
    }
   ],
   "metadata": {}
  },
  {
   "cell_type": "code",
   "execution_count": 58,
   "source": [
    "# np.save('/home/thurs/DeepCT/results/ct_stratified_ids_k10.npy', ct_splits)"
   ],
   "outputs": [],
   "metadata": {}
  },
  {
   "cell_type": "code",
   "execution_count": 3,
   "source": [
    "# ct_splits = np.load('/home/thurs/DeepCT/results/ct_stratified_ids_k10.npy', allow_pickle=True)"
   ],
   "outputs": [],
   "metadata": {}
  },
  {
   "cell_type": "code",
   "execution_count": 12,
   "source": [
    "fig, axes = plt.subplots(nrows=1, ncols=10, figsize=(40, 5))\n",
    "\n",
    "for i in range(10):\n",
    "    axes[i].hist(ct_values_splits[i][0], bins=10)\n",
    "    axes[i].hist(ct_values_splits[i][1], bins=10)\n"
   ],
   "outputs": [
    {
     "output_type": "display_data",
     "data": {
      "image/png": "[encoded data removed]",
      "text/plain": [
       "<Figure size 2880x360 with 10 Axes>"
      ]
     },
     "metadata": {
      "needs_background": "light"
     }
    }
   ],
   "metadata": {}
  },
  {
   "cell_type": "code",
   "execution_count": null,
   "source": [],
   "outputs": [],
   "metadata": {}
  },
  {
   "cell_type": "code",
   "execution_count": null,
   "source": [],
   "outputs": [],
   "metadata": {}
  },
  {
   "cell_type": "code",
   "execution_count": 47,
   "source": [
    "ct_masks = ct_splits[0]\n",
    "\n",
    "criterion = torch.nn.BCEWithLogitsLoss(reduction='sum')\n",
    "optimizer = torch.optim.Adam(params=model.parameters(), lr = 0.0001, weight_decay = 1e-6)\n",
    "\n",
    "for batch in full_dl:\n",
    "    sequence_batch, cell_type_batch, targets, target_mask = batch\n",
    "\n",
    "     # val mask\n",
    "    target_mask_tr = target_mask.clone()\n",
    "    target_mask_tr[:, ct_masks[0]] = False\n",
    "    target_mask_val = ~target_mask_tr\n",
    "    print(target_mask_tr.sum(), target_mask_val.sum())\n",
    "\n",
    "    # compute a baseline\n",
    "    baseline = (targets * target_mask_tr).sum(axis=1) / target_mask_tr.sum(axis=1)\n",
    "    baseline = torch.repeat_interleave(baseline.unsqueeze(1), 631, dim=1)\n",
    "\n",
    "    with torch.no_grad():\n",
    "        outputs = model(sequence_batch, cell_type_batch)\n",
    "        criterion.weight = target_mask_val\n",
    "\n",
    "        loss = criterion(outputs, targets)\n",
    "        if criterion.reduction == \"sum\":\n",
    "            loss = loss / criterion.weight.sum()\n",
    "\n",
    "        predictions = torch.sigmoid(outputs)\n",
    "        predictions = predictions.view(-1, predictions.shape[-1])\n",
    "        targets = targets.view(-1, targets.shape[-1])\n",
    "        baseline = baseline.view(-1, baseline.shape[-1])\n",
    "        target_mask = target_mask_val.view(-1, target_mask_val.shape[-1])\n",
    "\n",
    "    break"
   ],
   "outputs": [
    {
     "output_type": "stream",
     "name": "stdout",
     "text": [
      "tensor(11340) tensor(1280)\n"
     ]
    }
   ],
   "metadata": {}
  },
  {
   "cell_type": "code",
   "execution_count": 44,
   "source": [
    "predictions"
   ],
   "outputs": [
    {
     "output_type": "execute_result",
     "data": {
      "text/plain": [
       "tensor([[0.4163],\n",
       "        [0.3897],\n",
       "        [0.3891],\n",
       "        ...,\n",
       "        [0.3596],\n",
       "        [0.3802],\n",
       "        [0.3543]])"
      ]
     },
     "metadata": {},
     "execution_count": 44
    }
   ],
   "metadata": {}
  },
  {
   "cell_type": "code",
   "execution_count": 46,
   "source": [
    "baseline"
   ],
   "outputs": [
    {
     "output_type": "execute_result",
     "data": {
      "text/plain": [
       "tensor([[0.0018],\n",
       "        [0.0018],\n",
       "        [0.0018],\n",
       "        ...,\n",
       "        [0.0423],\n",
       "        [0.0423],\n",
       "        [0.0423]])"
      ]
     },
     "metadata": {},
     "execution_count": 46
    }
   ],
   "metadata": {}
  },
  {
   "cell_type": "code",
   "execution_count": 45,
   "source": [
    "targets"
   ],
   "outputs": [
    {
     "output_type": "execute_result",
     "data": {
      "text/plain": [
       "tensor([[0.],\n",
       "        [0.],\n",
       "        [0.],\n",
       "        ...,\n",
       "        [0.],\n",
       "        [0.],\n",
       "        [0.]])"
      ]
     },
     "metadata": {},
     "execution_count": 45
    }
   ],
   "metadata": {}
  },
  {
   "cell_type": "code",
   "execution_count": 49,
   "source": [
    "# all_predictions = expand_dims(np.concatenate(predictions))\n",
    "# all_targets = expand_dims(np.concatenate(targets))\n",
    "# all_baselines = expand_dims(np.concatenate(baseline))\n",
    "# all_target_masks = expand_dims(np.concatenate(target_mask))"
   ],
   "outputs": [],
   "metadata": {}
  },
  {
   "cell_type": "code",
   "execution_count": null,
   "source": [
    "average_scores = _compute_metrics(\n",
    "    predictions, targets, target_mask, log_prefix=\"validation\"\n",
    ")\n",
    "baselines_scores = _compute_baseline_score(\n",
    "    baseline, targets, target_mask, log_prefix=\"validation\"\n",
    ")"
   ],
   "outputs": [],
   "metadata": {}
  },
  {
   "cell_type": "code",
   "execution_count": null,
   "source": [],
   "outputs": [],
   "metadata": {}
  },
  {
   "cell_type": "markdown",
   "source": [
    "# Стратификация по seq"
   ],
   "metadata": {}
  },
  {
   "cell_type": "code",
   "execution_count": 25,
   "source": [
    "mean_target_np = np.load(f'/home/thurs/DeepCT/results/all_targets_mean.npy')\n",
    "idx_np = np.load(f'/home/thurs/DeepCT/results/all_idx.npy')"
   ],
   "outputs": [],
   "metadata": {}
  },
  {
   "cell_type": "code",
   "execution_count": 27,
   "source": [
    "len(mean_target_np), len(idx_np)"
   ],
   "outputs": [
    {
     "output_type": "execute_result",
     "data": {
      "text/plain": [
       "(11576175, 11576175)"
      ]
     },
     "metadata": {},
     "execution_count": 27
    }
   ],
   "metadata": {}
  },
  {
   "cell_type": "code",
   "execution_count": null,
   "source": [],
   "outputs": [],
   "metadata": {}
  },
  {
   "cell_type": "code",
   "execution_count": null,
   "source": [],
   "outputs": [],
   "metadata": {}
  },
  {
   "cell_type": "code",
   "execution_count": null,
   "source": [],
   "outputs": [],
   "metadata": {}
  },
  {
   "cell_type": "code",
   "execution_count": null,
   "source": [],
   "outputs": [],
   "metadata": {}
  },
  {
   "cell_type": "code",
   "execution_count": 13,
   "source": [
    "def create_split_loaders(configs, full_dataset, split):\n",
    "    \"\"\"\n",
    "    Called for each split, this creates a two DataLoaders for each split. \n",
    "    One DataLoader for the samples in the training folds and one DataLoader \n",
    "    for the samples in the validation fold.\n",
    "    \"\"\"\n",
    "    dataset_info = configs[\"dataset\"]\n",
    "    # current_fold = configs[\"dataset\"]['dataset_args']['fold']\n",
    "    # print('current fold:', current_fold)\n",
    "\n",
    "    train_folds_idx = split[0]\n",
    "    valid_folds_idx = split[1]\n",
    "    current_fold_idx = np.append(train_folds_idx, valid_folds_idx)\n",
    "\n",
    "    train_subset = torch.utils.data.Subset(\n",
    "        full_dataset, \n",
    "        current_fold_idx\n",
    "        )\n",
    "\n",
    "    val_subset = torch.utils.data.Subset(\n",
    "        full_dataset, \n",
    "        valid_folds_idx\n",
    "        )\n",
    "    val_transform = instantiate(dataset_info[\"val_transform\"])\n",
    "    val_subset.dataset.transform = val_transform\n",
    "\n",
    "    module = None\n",
    "    if os.path.isdir(dataset_info[\"path\"]):\n",
    "        module = module_from_dir(dataset_info[\"path\"])\n",
    "    else:\n",
    "        module = module_from_file(dataset_info[\"path\"])\n",
    "\n",
    "    train_sampler_class = getattr(module, dataset_info[\"sampler_class\"])\n",
    "    gen = torch.Generator()\n",
    "    gen.manual_seed(configs[\"random_seed\"])\n",
    "    train_sampler = train_sampler_class(\n",
    "        train_subset, replacement=False, generator=gen\n",
    "    )\n",
    "\n",
    "    train_loader = torch.utils.data.DataLoader(\n",
    "        train_subset,\n",
    "        batch_size=dataset_info[\"loader_args\"][\"batch_size\"],\n",
    "        num_workers=dataset_info[\"loader_args\"][\"num_workers\"],\n",
    "        worker_init_fn=module.subset_encode_worker_init_fn,\n",
    "        sampler=train_sampler,\n",
    "    )\n",
    "\n",
    "    val_sampler_class = getattr(module, dataset_info[\"validation_sampler_class\"])\n",
    "    gen = torch.Generator()\n",
    "    gen.manual_seed(configs[\"random_seed\"])\n",
    "\n",
    "    val_sampler = val_sampler_class(\n",
    "        data_source=val_subset, \n",
    "        num_samples=dataset_info['validation_sampler_args']['num_samples'], \n",
    "        generator=gen\n",
    "    )\n",
    "\n",
    "    val_loader = torch.utils.data.DataLoader(\n",
    "            val_subset,\n",
    "            batch_size=configs['dataset'][\"loader_args\"][\"batch_size\"],\n",
    "            num_workers=configs['dataset'][\"loader_args\"][\"num_workers\"],\n",
    "            worker_init_fn=module.subset_encode_worker_init_fn,\n",
    "            sampler=val_sampler,\n",
    "        )\n",
    "\n",
    "    return (train_loader, val_loader) \n",
    "\n",
    "\n",
    "def get_all_split_loaders(dataset, cv_splits):\n",
    "    \"\"\"Create DataLoaders for each split.\n",
    "\n",
    "    Keyword arguments:\n",
    "    dataset -- Dataset to sample from.\n",
    "    cv_splits -- Array containing indices of samples to \n",
    "                 be used in each fold for each split.\n",
    "    aug_count -- Number of variations for each sample in dataset.\n",
    "    batch_size -- batch size.\n",
    "    \n",
    "    \"\"\"\n",
    "    split_samplers = []\n",
    "    \n",
    "    for i in range(len(cv_splits)):\n",
    "        split_samplers.append(\n",
    "            create_split_loaders(\n",
    "                configs,\n",
    "                dataset,\n",
    "                cv_splits[i]\n",
    "                )\n",
    "        )\n",
    "    return split_samplers\n"
   ],
   "outputs": [],
   "metadata": {}
  },
  {
   "cell_type": "code",
   "execution_count": 14,
   "source": [
    "train_loader_0, val_loader_0 = create_split_loaders(configs, full_dataset, splits[0])\n",
    "len(train_loader_0), len(val_loader_0)"
   ],
   "outputs": [
    {
     "output_type": "execute_result",
     "data": {
      "text/plain": [
       "(50, 5)"
      ]
     },
     "metadata": {},
     "execution_count": 14
    }
   ],
   "metadata": {}
  },
  {
   "cell_type": "code",
   "execution_count": 15,
   "source": [
    "dataloaders = get_all_split_loaders(full_dataset, splits)\n",
    "len(dataloaders)"
   ],
   "outputs": [
    {
     "output_type": "execute_result",
     "data": {
      "text/plain": [
       "10"
      ]
     },
     "metadata": {},
     "execution_count": 15
    }
   ],
   "metadata": {}
  },
  {
   "cell_type": "code",
   "execution_count": 16,
   "source": [
    "dataloaders[0]"
   ],
   "outputs": [
    {
     "output_type": "execute_result",
     "data": {
      "text/plain": [
       "(<torch.utils.data.dataloader.DataLoader at 0x7fc52b037710>,\n",
       " <torch.utils.data.dataloader.DataLoader at 0x7fc52b087d30>)"
      ]
     },
     "metadata": {},
     "execution_count": 16
    }
   ],
   "metadata": {}
  },
  {
   "cell_type": "code",
   "execution_count": 17,
   "source": [
    "for i, batch in tqdm(enumerate(dataloaders[0][1])):\n",
    "    sequence_batch, cell_type_batch, targets, target_mask = batch\n",
    "    break"
   ],
   "outputs": [
    {
     "output_type": "stream",
     "name": "stderr",
     "text": [
      "0it [00:00, ?it/s]\n"
     ]
    }
   ],
   "metadata": {}
  },
  {
   "cell_type": "code",
   "execution_count": 18,
   "source": [
    "target_mask.sum()"
   ],
   "outputs": [
    {
     "output_type": "execute_result",
     "data": {
      "text/plain": [
       "tensor(12620)"
      ]
     },
     "metadata": {},
     "execution_count": 18
    }
   ],
   "metadata": {}
  },
  {
   "cell_type": "code",
   "execution_count": 19,
   "source": [
    "# torch.masked_select(target_mask, torch.tensor(ct_masks[0]))\n",
    "\n",
    "target_mask_tr = target_mask.clone()\n",
    "target_mask_tr[:, ct_masks[0].min(): ct_masks[0].max()+1] = False"
   ],
   "outputs": [],
   "metadata": {}
  },
  {
   "cell_type": "code",
   "execution_count": 20,
   "source": [
    "target_mask_tr.sum()"
   ],
   "outputs": [
    {
     "output_type": "execute_result",
     "data": {
      "text/plain": [
       "tensor(11340)"
      ]
     },
     "metadata": {},
     "execution_count": 20
    }
   ],
   "metadata": {}
  },
  {
   "cell_type": "code",
   "execution_count": 44,
   "source": [
    "def train(model, batch, fold):\n",
    "    \"\"\"\n",
    "    Trains the model on a batch of data.\n",
    "\n",
    "    Returns\n",
    "    -------\n",
    "    float\n",
    "        The training loss.\n",
    "\n",
    "    \"\"\"    \n",
    "    # retrieved_seq, cell_type, target, target_mask\n",
    "    sequence_batch = batch[0]#.to(device)\n",
    "    cell_type_batch = batch[1]#.to(device)\n",
    "    targets = batch[2]#.to(device)\n",
    "    target_mask = batch[3]#.to(device)\n",
    "\n",
    "    # make train mask\n",
    "    target_mask_tr = target_mask.clone()\n",
    "    target_mask_tr[:, ct_masks[fold].min(): ct_masks[fold].max()+1] = False\n",
    "\n",
    "    outputs = model(sequence_batch, cell_type_batch)\n",
    "\n",
    "    criterion.weight = target_mask_tr\n",
    "    loss = criterion(outputs, targets)\n",
    "    if criterion.reduction == \"sum\":\n",
    "        loss = loss / criterion.weight.sum()\n",
    "    predictions = torch.sigmoid(outputs)\n",
    "\n",
    "    # predictions = predictions * target_mask_tr\n",
    "    # targets = targets * target_mask_tr\n",
    "\n",
    "    optimizer.zero_grad()\n",
    "    loss.backward()\n",
    "    optimizer.step()\n",
    "\n",
    "    return (\n",
    "        predictions.detach().numpy(),\n",
    "        targets.detach().numpy(),\n",
    "        target_mask_tr.numpy(),\n",
    "        loss.item(),\n",
    "    )\n",
    "\n",
    "def evaluate(model, batch, target_mask_tr):\n",
    "    \"\"\"\n",
    "    Makes predictions for some labeled input data.\n",
    "\n",
    "    Parameters\n",
    "    ----------\n",
    "    data_in_batches : list(SamplesBatch)\n",
    "        A list of tuples of the data, where the first element is\n",
    "        the example, and the second element is the label.\n",
    "\n",
    "    Returns\n",
    "    -------\n",
    "    tuple(float, list(numpy.ndarray))\n",
    "        Returns the average loss, and the list of all predictions.\n",
    "\n",
    "    \"\"\"\n",
    "\n",
    "    sequence_batch = batch[0]#.to(device)\n",
    "    cell_type_batch = batch[1]#.to(device)\n",
    "    targets = batch[2]#.to(device)\n",
    "    target_mask = batch[3]#.to(device)\n",
    "    # print('targets', targets.shape)\n",
    "\n",
    "    # val mask\n",
    "    target_mask_val = target_mask.clone()\n",
    "    target_mask_val = ~target_mask_tr\n",
    "\n",
    "    if target_mask_val.shape[0] != targets.shape[0]:\n",
    "        target_mask_val = target_mask_val[:targets.shape[0], ...]\n",
    "\n",
    "    # compure a baseline\n",
    "    baseline = (targets * target_mask_val).sum(axis=1) / target_mask_val.sum(axis=1)\n",
    "    baseline = torch.repeat_interleave(baseline.unsqueeze(1), 631, dim=1)\n",
    "\n",
    "    with torch.no_grad():\n",
    "        outputs = model(sequence_batch, cell_type_batch)\n",
    "\n",
    "        criterion.weight = target_mask_val\n",
    "        loss = criterion(outputs, targets)\n",
    "        if criterion.reduction == \"sum\":\n",
    "            loss = loss / criterion.weight.sum()\n",
    "\n",
    "        predictions = torch.sigmoid(outputs)\n",
    "        predictions = predictions.view(-1, predictions.shape[-1])\n",
    "        targets = targets.view(-1, targets.shape[-1])\n",
    "        baseline = baseline.view(-1, baseline.shape[-1])\n",
    "        target_mask = target_mask_val.view(-1, target_mask_val.shape[-1])\n",
    "\n",
    "    return loss, predictions, targets, baseline, target_mask\n"
   ],
   "outputs": [],
   "metadata": {}
  },
  {
   "cell_type": "code",
   "execution_count": 22,
   "source": [
    "criterion = torch.nn.BCEWithLogitsLoss(reduction='sum')\n",
    "optimizer = torch.optim.Adam(params=model.parameters(), lr = 0.0001, weight_decay = 1e-6)"
   ],
   "outputs": [],
   "metadata": {}
  },
  {
   "cell_type": "code",
   "execution_count": 37,
   "source": [
    "from selene_sdk.utils import (\n",
    "    PerformanceMetrics,\n",
    "    initialize_logger,\n",
    "    load_model_from_state_dict,\n",
    ")\n",
    "from sklearn.metrics import (\n",
    "    ConfusionMatrixDisplay,\n",
    "    average_precision_score,\n",
    "    confusion_matrix,\n",
    "    roc_auc_score,\n",
    ")\n",
    "\n",
    "\n",
    "metrics=dict(roc_auc=roc_auc_score, average_precision=average_precision_score)\n",
    "\n",
    "_test_metrics = PerformanceMetrics(\n",
    "            lambda idx: train_batch_loader.dataset.dataset.target_features[idx],\n",
    "            report_gt_feature_n_positives=10,\n",
    "            metrics=metrics,\n",
    "        )\n",
    "\n",
    "print(train_batch_loader.dataset.dataset.target_features[0])\n"
   ],
   "outputs": [
    {
     "output_type": "stream",
     "name": "stdout",
     "text": [
      "DNase-seq\n"
     ]
    }
   ],
   "metadata": {}
  },
  {
   "cell_type": "code",
   "execution_count": 48,
   "source": [
    "# train_batch_loader -- batches all samples in training folds.\n",
    "# valid_batch_loader -- batches all samples in validation fold.\n",
    "for fold, (train_batch_loader, valid_batch_loader) in enumerate(dataloaders):\n",
    "    print('fold:', fold, len(train_batch_loader), len(valid_batch_loader))\n",
    "    # Loop through all batches in training folds for a given split.\n",
    "    model.train()\n",
    "    tain_losses = []\n",
    "    for batch in tqdm(train_batch_loader):\n",
    "        # Train model on the training folds in the split.\n",
    "        prediction, target, target_mask, loss = train(model, batch, fold)\n",
    "        tain_losses.append(loss)\n",
    "    print('train loss:', np.average(tain_losses))\n",
    "\n",
    "    # Loop through all batches in validation fold for a given split.\n",
    "    model.eval()\n",
    "    batch_losses = []\n",
    "    all_predictions = []\n",
    "    all_targets = []\n",
    "    all_target_masks = []\n",
    "    all_baselines = []\n",
    "    for batch in tqdm(valid_batch_loader):\n",
    "        # Test model on the validation fold in the split.\n",
    "        (\n",
    "            loss,\n",
    "            predictions,\n",
    "            targets,\n",
    "            baseline,\n",
    "            target_masks,\n",
    "        ) = evaluate(model, batch, target_mask_tr)\n",
    "\n",
    "        all_predictions.append(predictions.data.numpy())\n",
    "        all_targets.append(targets.data.numpy())\n",
    "        all_target_masks.append(target_masks.data.numpy())\n",
    "        all_baselines.append(baseline.data.numpy())\n",
    "        batch_losses.append(loss.item())\n",
    "\n",
    "    all_predictions = expand_dims(np.concatenate(all_predictions))\n",
    "    all_targets = expand_dims(np.concatenate(all_targets))\n",
    "    all_baselines = expand_dims(np.concatenate(all_baselines))\n",
    "    all_target_masks = expand_dims(np.concatenate(all_target_masks))\n",
    "\n",
    "    # compute metrics\n",
    "    average_scores = _test_metrics.update(\n",
    "        all_predictions, all_targets, all_target_masks\n",
    "    )\n",
    "    baseline_score = _test_metrics.update(\n",
    "        all_baselines, all_targets, all_target_masks\n",
    "    )\n",
    "\n",
    "    for name, score in average_scores.items():\n",
    "        print(name, score)\n",
    "    for name, score in baseline_score.items():\n",
    "        print(f'baseline_{name}', score)   \n"
   ],
   "outputs": [
    {
     "output_type": "stream",
     "name": "stdout",
     "text": [
      "fold: 0 50 5\n"
     ]
    },
    {
     "output_type": "stream",
     "name": "stderr",
     "text": [
      "  8%|▊         | 4/50 [00:28<05:16,  6.88s/it]"
     ]
    }
   ],
   "metadata": {}
  },
  {
   "cell_type": "code",
   "execution_count": null,
   "source": [],
   "outputs": [],
   "metadata": {}
  },
  {
   "cell_type": "code",
   "execution_count": null,
   "source": [
    "# Stratified k-fold\n",
    "\n",
    "n_folds = 10\n",
    "skf = StratifiedKFold(n_folds, shuffle=True, random_state=666)\n",
    "\n",
    "splits = []\n",
    "for train_idx, test_idx in k_fold.split(genome_intervals):\n",
    "    splits.append((train_idx, test_idx))\n",
    "\n",
    "ct_masks = np.array_split(range(configs['model']['class_args']['n_cell_types']), n_folds)\n",
    "print([len(c) for c in ct_masks])"
   ],
   "outputs": [],
   "metadata": {}
  },
  {
   "cell_type": "code",
   "execution_count": null,
   "source": [
    "all_targets_mean = np.load('/home/thurs/DeepCT/results/all_targets_mean.npy')"
   ],
   "outputs": [],
   "metadata": {}
  },
  {
   "cell_type": "code",
   "execution_count": null,
   "source": [],
   "outputs": [],
   "metadata": {}
  }
 ],
 "metadata": {
  "orig_nbformat": 4,
  "language_info": {
   "name": "python",
   "version": "3.6.9",
   "mimetype": "text/x-python",
   "codemirror_mode": {
    "name": "ipython",
    "version": 3
   },
   "pygments_lexer": "ipython3",
   "nbconvert_exporter": "python",
   "file_extension": ".py"
  },
  "kernelspec": {
   "name": "python3",
   "display_name": "Python 3.6.9 64-bit ('genv': venv)"
  },
  "interpreter": {
   "hash": "7bed6a5b8f0827f7d7f30ba9d7b2c61fcd2f223009d9afc95ff59e669a7c4ade"
  }
 },
 "nbformat": 4,
 "nbformat_minor": 2
}