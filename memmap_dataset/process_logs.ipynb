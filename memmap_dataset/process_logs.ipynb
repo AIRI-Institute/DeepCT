{
 "cells": [
  {
   "cell_type": "code",
   "execution_count": 1,
   "metadata": {},
   "outputs": [],
   "source": [
    "import os\n",
    "\n",
    "import pandas as pd"
   ]
  },
  {
   "cell_type": "code",
   "execution_count": 2,
   "metadata": {},
   "outputs": [],
   "source": [
    "DATASET_FOLDER = \"/mnt/datasets/DeepCT/dataset_data/Biox_et_al/complete_clique1_with0/samples\"\n",
    "LOG_FOLDER = f\"{DATASET_FOLDER}/logs\"\n",
    "SAMPLES_FILE = \"complete_clique1_with0_samples_200.bed\"\n",
    "LARGEST_CHROM = 'chr2'\n",
    "N_TRACKS = 3026\n",
    "\n",
    "MAIN_PROCESS_PID = 27573"
   ]
  },
  {
   "cell_type": "code",
   "execution_count": 3,
   "metadata": {},
   "outputs": [
    {
     "name": "stdout",
     "output_type": "stream",
     "text": [
      "Total expected output size: 26.67G\n",
      "Current total size: 1.7G\n"
     ]
    }
   ],
   "source": [
    "ls_dir = os.popen(f'ls -lah {DATASET_FOLDER}').read().split('\\n')\n",
    "chrom_lines = ls_dir[3:-1]\n",
    "sizes = []\n",
    "for line in chrom_lines:\n",
    "    for sub in line.split():\n",
    "        if sub.endswith('G'):\n",
    "            sizes.append(float(sub[:-1]))\n",
    "        elif sub.endswith('M'):\n",
    "            sizes.append(float(sub[:-1]) / 1024)\n",
    "print(f\"Total expected output size: {sum(sizes):.2f}G\")\n",
    "print(f\"Current total size: {ls_dir[0].split()[-1]}\")"
   ]
  },
  {
   "cell_type": "code",
   "execution_count": 4,
   "metadata": {},
   "outputs": [],
   "source": [
    "samples = pd.read_csv(SAMPLES_FILE, sep='\\t', header=None)\n",
    "samples.columns = ['chrom', 'start', 'end', 'index']"
   ]
  },
  {
   "cell_type": "code",
   "execution_count": 5,
   "metadata": {},
   "outputs": [],
   "source": [
    "total_largest_chrom_writes = samples.groupby('chrom').start.count()[LARGEST_CHROM] * N_TRACKS"
   ]
  },
  {
   "cell_type": "code",
   "execution_count": 6,
   "metadata": {},
   "outputs": [],
   "source": [
    "def time_str_to_secs(time):\n",
    "    if '-' in time:\n",
    "        days, hours = time.split('-')\n",
    "    else:\n",
    "        days = 0\n",
    "        hours = time\n",
    "    hours_split = hours.split(':')\n",
    "    secs = int(days) * 24 * 60 * 60\n",
    "    for i, it in zip(range(len(hours_split) - 1, -1, -1), hours_split):\n",
    "        secs += int(it) * 60 ** i\n",
    "    return secs"
   ]
  },
  {
   "cell_type": "code",
   "execution_count": 7,
   "metadata": {
    "tags": []
   },
   "outputs": [
    {
     "name": "stdout",
     "output_type": "stream",
     "text": [
      "Progress: 3.21% (18480000/575678344 tracks processed)\n",
      "Time passed: 3.137h, estimated total: 97.712h\n"
     ]
    }
   ],
   "source": [
    "log = pd.read_csv(os.path.join(LOG_FOLDER, f'{LARGEST_CHROM}_writer_log.txt'), sep='\\t', header=None)\n",
    "log.columns = ['mode', 'chrom', 'sample_idx', 'track_idx', 'time']\n",
    "n_written = log[log['mode'] == 'w'].sample_idx.count()\n",
    "share_written = n_written / total_largest_chrom_writes\n",
    "\n",
    "proc_time = os.popen(f'ps -p {MAIN_PROCESS_PID} -o etime').read()\n",
    "time = proc_time.split()[-1]\n",
    "secs_passed = time_str_to_secs(time)\n",
    "total_secs = secs_passed / share_written\n",
    "\n",
    "print(f\"Progress: {share_written * 100:2.2f}% ({n_written}/{total_largest_chrom_writes} tracks processed)\")\n",
    "print(f\"Time passed: {secs_passed / 60 / 60:.3f}h, estimated total: {total_secs / 60 / 60:.3f}h\")"
   ]
  },
  {
   "cell_type": "code",
   "execution_count": 20,
   "metadata": {},
   "outputs": [],
   "source": [
    "del log"
   ]
  },
  {
   "cell_type": "code",
   "execution_count": 11,
   "metadata": {},
   "outputs": [
    {
     "data": {
      "text/html": [
       "<div>\n",
       "<style scoped>\n",
       "    .dataframe tbody tr th:only-of-type {\n",
       "        vertical-align: middle;\n",
       "    }\n",
       "\n",
       "    .dataframe tbody tr th {\n",
       "        vertical-align: top;\n",
       "    }\n",
       "\n",
       "    .dataframe thead th {\n",
       "        text-align: right;\n",
       "    }\n",
       "</style>\n",
       "<table border=\"1\" class=\"dataframe\">\n",
       "  <thead>\n",
       "    <tr style=\"text-align: right;\">\n",
       "      <th></th>\n",
       "      <th>chrom</th>\n",
       "      <th>start</th>\n",
       "      <th>end</th>\n",
       "    </tr>\n",
       "  </thead>\n",
       "  <tbody>\n",
       "    <tr>\n",
       "      <th>13400</th>\n",
       "      <td>chr16</td>\n",
       "      <td>65473</td>\n",
       "      <td>196545</td>\n",
       "    </tr>\n",
       "    <tr>\n",
       "      <th>13401</th>\n",
       "      <td>chr16</td>\n",
       "      <td>130946</td>\n",
       "      <td>262018</td>\n",
       "    </tr>\n",
       "    <tr>\n",
       "      <th>13402</th>\n",
       "      <td>chr16</td>\n",
       "      <td>196419</td>\n",
       "      <td>327491</td>\n",
       "    </tr>\n",
       "    <tr>\n",
       "      <th>13403</th>\n",
       "      <td>chr16</td>\n",
       "      <td>261892</td>\n",
       "      <td>392964</td>\n",
       "    </tr>\n",
       "    <tr>\n",
       "      <th>13404</th>\n",
       "      <td>chr16</td>\n",
       "      <td>327365</td>\n",
       "      <td>458437</td>\n",
       "    </tr>\n",
       "    <tr>\n",
       "      <th>...</th>\n",
       "      <td>...</td>\n",
       "      <td>...</td>\n",
       "      <td>...</td>\n",
       "    </tr>\n",
       "    <tr>\n",
       "      <th>14589</th>\n",
       "      <td>chr16</td>\n",
       "      <td>89894429</td>\n",
       "      <td>90025501</td>\n",
       "    </tr>\n",
       "    <tr>\n",
       "      <th>14590</th>\n",
       "      <td>chr16</td>\n",
       "      <td>89959902</td>\n",
       "      <td>90090974</td>\n",
       "    </tr>\n",
       "    <tr>\n",
       "      <th>14591</th>\n",
       "      <td>chr16</td>\n",
       "      <td>90025375</td>\n",
       "      <td>90156447</td>\n",
       "    </tr>\n",
       "    <tr>\n",
       "      <th>14592</th>\n",
       "      <td>chr16</td>\n",
       "      <td>90090848</td>\n",
       "      <td>90221920</td>\n",
       "    </tr>\n",
       "    <tr>\n",
       "      <th>14593</th>\n",
       "      <td>chr16</td>\n",
       "      <td>90156321</td>\n",
       "      <td>90287393</td>\n",
       "    </tr>\n",
       "  </tbody>\n",
       "</table>\n",
       "<p>1194 rows × 3 columns</p>\n",
       "</div>"
      ],
      "text/plain": [
       "       chrom     start       end\n",
       "13400  chr16     65473    196545\n",
       "13401  chr16    130946    262018\n",
       "13402  chr16    196419    327491\n",
       "13403  chr16    261892    392964\n",
       "13404  chr16    327365    458437\n",
       "...      ...       ...       ...\n",
       "14589  chr16  89894429  90025501\n",
       "14590  chr16  89959902  90090974\n",
       "14591  chr16  90025375  90156447\n",
       "14592  chr16  90090848  90221920\n",
       "14593  chr16  90156321  90287393\n",
       "\n",
       "[1194 rows x 3 columns]"
      ]
     },
     "execution_count": 11,
     "metadata": {},
     "output_type": "execute_result"
    }
   ],
   "source": [
    "samples[samples['chrom'] == 'chr16']"
   ]
  }
 ],
 "metadata": {
  "kernelspec": {
   "display_name": "Python 3",
   "language": "python",
   "name": "python3"
  },
  "language_info": {
   "codemirror_mode": {
    "name": "ipython",
    "version": 3
   },
   "file_extension": ".py",
   "mimetype": "text/x-python",
   "name": "python",
   "nbconvert_exporter": "python",
   "pygments_lexer": "ipython3",
   "version": "3.7.5"
  }
 },
 "nbformat": 4,
 "nbformat_minor": 4
}
