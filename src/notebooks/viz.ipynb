{
 "cells": [
  {
   "cell_type": "code",
   "execution_count": 14,
   "metadata": {},
   "outputs": [
    {
     "data": {
      "text/html": [
       "<div>\n",
       "<style scoped>\n",
       "    .dataframe tbody tr th:only-of-type {\n",
       "        vertical-align: middle;\n",
       "    }\n",
       "\n",
       "    .dataframe tbody tr th {\n",
       "        vertical-align: top;\n",
       "    }\n",
       "\n",
       "    .dataframe thead th {\n",
       "        text-align: right;\n",
       "    }\n",
       "</style>\n",
       "<table border=\"1\" class=\"dataframe\">\n",
       "  <thead>\n",
       "    <tr style=\"text-align: right;\">\n",
       "      <th></th>\n",
       "      <th>loss</th>\n",
       "      <th>average_precision</th>\n",
       "      <th>baseline</th>\n",
       "    </tr>\n",
       "  </thead>\n",
       "  <tbody>\n",
       "    <tr>\n",
       "      <th>0</th>\n",
       "      <td>0.16087646728916333</td>\n",
       "      <td>0.3667367561035285</td>\n",
       "      <td>0.551404</td>\n",
       "    </tr>\n",
       "    <tr>\n",
       "      <th>1</th>\n",
       "      <td>0.12184568698420846</td>\n",
       "      <td>0.45307511398192285</td>\n",
       "      <td>0.556082</td>\n",
       "    </tr>\n",
       "    <tr>\n",
       "      <th>2</th>\n",
       "      <td>0.12703498122894735</td>\n",
       "      <td>0.4819572637295542</td>\n",
       "      <td>0.571745</td>\n",
       "    </tr>\n",
       "    <tr>\n",
       "      <th>3</th>\n",
       "      <td>0.10856520871007905</td>\n",
       "      <td>0.5109050670924712</td>\n",
       "      <td>0.521324</td>\n",
       "    </tr>\n",
       "    <tr>\n",
       "      <th>4</th>\n",
       "      <td>0.0975959094488347</td>\n",
       "      <td>0.5469293918911695</td>\n",
       "      <td>0.556908</td>\n",
       "    </tr>\n",
       "  </tbody>\n",
       "</table>\n",
       "</div>"
      ],
      "text/plain": [
       "                  loss    average_precision  baseline\n",
       "0  0.16087646728916333   0.3667367561035285  0.551404\n",
       "1  0.12184568698420846  0.45307511398192285  0.556082\n",
       "2  0.12703498122894735   0.4819572637295542  0.571745\n",
       "3  0.10856520871007905   0.5109050670924712  0.521324\n",
       "4   0.0975959094488347   0.5469293918911695  0.556908"
      ]
     },
     "execution_count": 14,
     "metadata": {},
     "output_type": "execute_result"
    }
   ],
   "source": [
    "import pandas as pd\n",
    "\n",
    "home_pth = '/home/thurs/DeepCT/DeepCT_outputs/biox/ct_v2/dnase/multi_ct/masked_train_LR0001_folds_shuffle/fold_00/'\n",
    "\n",
    "validation_metrics = pd.read_csv(home_pth+'src.train.train_kfold.validation_metrics.txt', \n",
    "    sep='\\t', \n",
    "    header=0, \n",
    "    # names=['loss', 'average_precision', 'baseline']\n",
    ").reset_index()\n",
    "validation_metrics.dropna(axis=0, inplace=True)\n",
    "validation_metrics.columns = ['loss', 'average_precision', 'baseline']\n",
    "validation_metrics.head()"
   ]
  },
  {
   "cell_type": "code",
   "execution_count": 18,
   "metadata": {},
   "outputs": [],
   "source": [
    "validation_metrics['average_precision'] = validation_metrics['average_precision'].astype('float64')\n",
    "validation_metrics['baseline'] = validation_metrics['baseline'].astype('float64')\n",
    "validation_metrics['loss'] = validation_metrics['loss'].astype('float64')"
   ]
  },
  {
   "cell_type": "code",
   "execution_count": 19,
   "metadata": {},
   "outputs": [
    {
     "data": {
      "text/plain": [
       "count    81.000000\n",
       "mean      0.695845\n",
       "std       0.076313\n",
       "min       0.366737\n",
       "25%       0.674851\n",
       "50%       0.710194\n",
       "75%       0.742452\n",
       "max       0.802342\n",
       "Name: average_precision, dtype: float64"
      ]
     },
     "execution_count": 19,
     "metadata": {},
     "output_type": "execute_result"
    }
   ],
   "source": [
    "validation_metrics['average_precision'].describe()"
   ]
  },
  {
   "cell_type": "code",
   "execution_count": 20,
   "metadata": {},
   "outputs": [
    {
     "data": {
      "text/plain": [
       "count    81.000000\n",
       "mean      0.547068\n",
       "std       0.021671\n",
       "min       0.513295\n",
       "25%       0.524310\n",
       "50%       0.556082\n",
       "75%       0.563588\n",
       "max       0.579064\n",
       "Name: baseline, dtype: float64"
      ]
     },
     "execution_count": 20,
     "metadata": {},
     "output_type": "execute_result"
    }
   ],
   "source": [
    "validation_metrics['baseline'].describe()"
   ]
  },
  {
   "cell_type": "code",
   "execution_count": null,
   "metadata": {},
   "outputs": [],
   "source": []
  }
 ],
 "metadata": {
  "interpreter": {
   "hash": "6988b61c558fa61e6d89415005c1c85f96bcc56c732d4f4b6bb35237755a876f"
  },
  "kernelspec": {
   "display_name": "Python 3.6.9 64-bit ('genv': venv)",
   "name": "python3"
  },
  "language_info": {
   "name": "python",
   "version": "3.6.9"
  },
  "orig_nbformat": 4
 },
 "nbformat": 4,
 "nbformat_minor": 2
}
