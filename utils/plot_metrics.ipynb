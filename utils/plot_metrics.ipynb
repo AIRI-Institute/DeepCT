{
 "cells": [
  {
   "cell_type": "markdown",
   "id": "retired-complex",
   "metadata": {},
   "source": [
    "## Imports"
   ]
  },
  {
   "cell_type": "code",
   "execution_count": null,
   "id": "cutting-variance",
   "metadata": {},
   "outputs": [],
   "source": [
    "from plot_metrics import plot_metrics"
   ]
  },
  {
   "cell_type": "markdown",
   "id": "composite-tyler",
   "metadata": {},
   "source": [
    "## Input your files"
   ]
  },
  {
   "cell_type": "code",
   "execution_count": null,
   "id": "killing-motel",
   "metadata": {},
   "outputs": [],
   "source": [
    "files = [\n",
    "    \"/home/arlapin/DeepCT_outputs/new_sampler_0008/selene_sdk.train_model.validation.txt\",\n",
    "    \"/home/arlapin/DeepCT_outputs/new_sampler_00008/selene_sdk.train_model.validation.txt\",\n",
    "    \"/home/arlapin/DeepCT_outputs/old_sampler_00008/selene_sdk.train_model.validation.txt\",        \n",
    "]"
   ]
  },
  {
   "cell_type": "markdown",
   "id": "toxic-problem",
   "metadata": {},
   "source": [
    "## Visualize"
   ]
  },
  {
   "cell_type": "code",
   "execution_count": null,
   "id": "palestinian-medication",
   "metadata": {},
   "outputs": [],
   "source": [
    "for filename in files:\n",
    "    fig = plot_metrics(filename)\n",
    "    fig.update_layout(autosize=False, width=1024, height=1024)\n",
    "    fig.show()"
   ]
  }
 ],
 "metadata": {
  "kernelspec": {
   "display_name": "Python 3",
   "language": "python",
   "name": "python3"
  },
  "language_info": {
   "codemirror_mode": {
    "name": "ipython",
    "version": 3
   },
   "file_extension": ".py",
   "mimetype": "text/x-python",
   "name": "python",
   "nbconvert_exporter": "python",
   "pygments_lexer": "ipython3",
   "version": "3.7.5"
  }
 },
 "nbformat": 4,
 "nbformat_minor": 5
}
